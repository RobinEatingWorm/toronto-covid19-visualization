{
 "cells": [
  {
   "cell_type": "markdown",
   "id": "36207499",
   "metadata": {},
   "source": [
    "# Visualizing COVID-19 Cases in Toronto by Age Group\n",
    "\n",
    "This notebook generates a histogram to visualize the episode dates of individuals in Toronto who contracted COVID-19. An episode date is an estimate of when the individual actually acquired the disease and may not be the the same date during which the case was reported.\n",
    "\n",
    "Data on COVID-19 cases in Toronto were obtained from the City of Toronto’s Open Data Portal. The histogram displays a subset of the cases who belong to a certain age group. The following age groups were collected in the data.\n",
    "\n",
    "* 19 and younger\n",
    "* 20 to 29\n",
    "* 30 to 39\n",
    "* 40 to 49\n",
    "* 50 to 59\n",
    "* 60 to 69\n",
    "* 70 to 79\n",
    "* 80 to 89\n",
    "* 90 and older\n",
    "\n",
    "To begin, run all code cells below. Selecting a new age group from the histogram's dropdown menu will redraw the histogram of COVID-19 episode dates for individuals within the new age group."
   ]
  },
  {
   "cell_type": "code",
   "execution_count": null,
   "id": "f553a8e2",
   "metadata": {},
   "outputs": [],
   "source": [
    "# imports\n",
    "from IPython.display import clear_output, display\n",
    "import ipywidgets as widgets\n",
    "import matplotlib.pyplot as plt\n",
    "import numpy as np\n",
    "import pandas as pd\n",
    "import requests"
   ]
  },
  {
   "cell_type": "code",
   "execution_count": null,
   "id": "5de62b59",
   "metadata": {},
   "outputs": [],
   "source": [
    "# get the data using the CKAN API\n",
    "# see https://open.toronto.ca/dataset/covid-19-cases-in-toronto/ for the dataset and API instructions\n",
    "url = 'https://ckan0.cf.opendata.inter.prod-toronto.ca/api/3/action/package_show'\n",
    "params = { 'id': 'covid-19-cases-in-toronto'}\n",
    "package = requests.get(url, params = params).json()\n",
    "resource = package['result']['resources']['name' == 'COVID19 cases.csv']\n",
    "url = resource['url']\n",
    "data = pd.read_csv(url)"
   ]
  },
  {
   "cell_type": "code",
   "execution_count": null,
   "id": "104229f7",
   "metadata": {},
   "outputs": [],
   "source": [
    "# wrangle the data for easy visualization later\n",
    "plot_data = data[['Age Group', 'Episode Date']]\n",
    "plot_data = plot_data.sort_values('Episode Date')\n",
    "plot_data = plot_data.groupby(plot_data.columns.tolist()).size()\n",
    "age_groups = [\n",
    "    '19 and younger',\n",
    "    '20 to 29 Years',\n",
    "    '30 to 39 Years',\n",
    "    '40 to 49 Years',\n",
    "    '50 to 59 Years',\n",
    "    '60 to 69 Years',\n",
    "    '70 to 79 Years',\n",
    "    '80 to 89 Years',\n",
    "    '90 and older'\n",
    "]"
   ]
  },
  {
   "cell_type": "code",
   "execution_count": null,
   "id": "7db54079",
   "metadata": {
    "scrolled": false
   },
   "outputs": [],
   "source": [
    "# create a dropdown menu to allow the user to select an age group\n",
    "def add_widget(age_group: str) -> None:\n",
    "    age_widget = widgets.Dropdown(\n",
    "        options=age_groups,\n",
    "        value=age_group,\n",
    "        description='Age Group:'\n",
    "    )\n",
    "    age_widget.observe(lambda a: plot_age_group(a['new']), 'value')\n",
    "    display(age_widget)\n",
    "\n",
    "# plot a histogram of COVID-19 cases in Toronto for the selected age group\n",
    "def plot_age_group(age_group: str) -> None:\n",
    "    clear_output()\n",
    "    add_widget(age_group)\n",
    "    # create an array of dates\n",
    "    plot_data_ag = plot_data.filter(like=age_group)\n",
    "    x = zip(*plot_data_ag.index)\n",
    "    episode_date = []\n",
    "    for i in x:\n",
    "        episode_date.append(i)\n",
    "    episode_date = np.asarray(episode_date[1], dtype='datetime64')\n",
    "    # get the number of new cases per day\n",
    "    cases = plot_data_ag.values\n",
    "    # plot the data\n",
    "    plt.hist(episode_date, bins=100, weights=cases, zorder=2)\n",
    "    plt.grid(axis='y', clip_on=False, zorder=1)\n",
    "    plt.xlabel('Date')\n",
    "    plt.xticks(rotation='vertical')\n",
    "    plt.ylabel('Number of New Cases')\n",
    "    plt.title(f'New COVID-19 Cases in Toronto for Individuals Aged {age_group}')\n",
    "    plt.show()\n",
    "    \n",
    "# initialize the visualization\n",
    "plot_age_group('19 and younger')"
   ]
  },
  {
   "cell_type": "markdown",
   "id": "233afca8",
   "metadata": {},
   "source": [
    "*Contains information licensed under the [Open Government Licence – Toronto](https://open.toronto.ca/open-data-license/).*"
   ]
  }
 ],
 "metadata": {
  "kernelspec": {
   "display_name": "Python 3 (ipykernel)",
   "language": "python",
   "name": "python3"
  },
  "language_info": {
   "codemirror_mode": {
    "name": "ipython",
    "version": 3
   },
   "file_extension": ".py",
   "mimetype": "text/x-python",
   "name": "python",
   "nbconvert_exporter": "python",
   "pygments_lexer": "ipython3",
   "version": "3.10.8"
  }
 },
 "nbformat": 4,
 "nbformat_minor": 5
}
